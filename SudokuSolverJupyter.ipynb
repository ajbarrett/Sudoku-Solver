{
 "cells": [
  {
   "cell_type": "code",
   "execution_count": 1,
   "metadata": {},
   "outputs": [],
   "source": [
    "def solve(board):\n",
    "    if findEmpty(board):\n",
    "        rowLoc, colLoc = findEmpty(board)\n",
    "    else: return True\n",
    "    \n",
    "    for x in range(1,10):\n",
    "        if valid(board,[rowLoc,colLoc],x):\n",
    "            board[rowLoc][colLoc] = x\n",
    "            if solve(board):\n",
    "                return True\n",
    "            board[rowLoc][colLoc] = 0\n",
    "    return False"
   ]
  },
  {
   "cell_type": "code",
   "execution_count": 2,
   "metadata": {},
   "outputs": [],
   "source": [
    "def findEmpty(board):\n",
    "    #find next empty entry\n",
    "    for i in range(0,len(board)):\n",
    "        for j in range(0,len(board[i])):\n",
    "            if board[i][j] == 0:\n",
    "                return [i,j]"
   ]
  },
  {
   "cell_type": "code",
   "execution_count": 3,
   "metadata": {},
   "outputs": [],
   "source": [
    "def valid(board, pos, num):\n",
    "    #start by obtaining rows and columns\n",
    "    row = board[pos[0]]\n",
    "    column=[]\n",
    "    for i in board:\n",
    "        column.append(i[pos[1]])\n",
    "    boxRow=pos[0]//3\n",
    "    boxCol=pos[1]//3\n",
    "    #DEBUG print(boxRow)\n",
    "    #DEBUG print(boxCol)\n",
    "    box = [[],[],[]]\n",
    "    for i in range(0,3):\n",
    "       box[i]=board[boxRow*3 + i][boxCol*3:boxCol*3+3]\n",
    "    #check if num already exists\n",
    "    if(row.__contains__(num)):\n",
    "        return False\n",
    "    if(column.__contains__(num)):\n",
    "        return False\n",
    "    if(box.__contains__(num)):\n",
    "        return False\n",
    "    #insert tested value\n",
    "    return True"
   ]
  },
  {
   "cell_type": "code",
   "execution_count": 4,
   "metadata": {},
   "outputs": [],
   "source": [
    "def display(board):\n",
    "    for i in range(len(board)):\n",
    "        temp = []\n",
    "        if(i%3==0 and i!=0):\n",
    "            print(\"-------------------------------------\")\n",
    "        for j in range(len(board)):\n",
    "            if(j%3==0 and j!=0):\n",
    "                temp.append(\"|\")\n",
    "            temp.append(board[i][j])\n",
    "        print(temp)"
   ]
  },
  {
   "cell_type": "code",
   "execution_count": 5,
   "metadata": {},
   "outputs": [],
   "source": [
    "sampleBoard = [\n",
    "        [0,0,0,2,6,0,7,0,1],\n",
    "        [6,8,0,0,7,0,0,9,0],\n",
    "        [1,9,0,0,0,4,5,0,0],\n",
    "        [8,2,0,1,0,0,0,4,0],\n",
    "        [0,0,4,6,0,2,9,0,0],\n",
    "        [0,5,0,0,0,3,0,2,8],\n",
    "        [0,0,9,3,0,0,0,7,4],\n",
    "        [0,4,0,0,5,0,0,3,6],\n",
    "        [7,0,3,0,1,8,0,0,0]               \n",
    "        ]"
   ]
  },
  {
   "cell_type": "code",
   "execution_count": 6,
   "metadata": {},
   "outputs": [
    {
     "name": "stdout",
     "output_type": "stream",
     "text": [
      "[0, 0, 0, '|', 2, 6, 0, '|', 7, 0, 1]\n",
      "[6, 8, 0, '|', 0, 7, 0, '|', 0, 9, 0]\n",
      "[1, 9, 0, '|', 0, 0, 4, '|', 5, 0, 0]\n",
      "-------------------------------------\n",
      "[8, 2, 0, '|', 1, 0, 0, '|', 0, 4, 0]\n",
      "[0, 0, 4, '|', 6, 0, 2, '|', 9, 0, 0]\n",
      "[0, 5, 0, '|', 0, 0, 3, '|', 0, 2, 8]\n",
      "-------------------------------------\n",
      "[0, 0, 9, '|', 3, 0, 0, '|', 0, 7, 4]\n",
      "[0, 4, 0, '|', 0, 5, 0, '|', 0, 3, 6]\n",
      "[7, 0, 3, '|', 0, 1, 8, '|', 0, 0, 0]\n"
     ]
    }
   ],
   "source": [
    "display(sampleBoard)"
   ]
  },
  {
   "cell_type": "code",
   "execution_count": 7,
   "metadata": {},
   "outputs": [
    {
     "name": "stdout",
     "output_type": "stream",
     "text": [
      "True\n",
      "[4, 3, 5, '|', 2, 6, 9, '|', 7, 8, 1]\n",
      "[6, 8, 2, '|', 5, 7, 1, '|', 4, 9, 3]\n",
      "[1, 9, 7, '|', 8, 3, 4, '|', 5, 6, 2]\n",
      "-------------------------------------\n",
      "[8, 2, 6, '|', 1, 9, 5, '|', 3, 4, 7]\n",
      "[3, 7, 4, '|', 6, 8, 2, '|', 9, 1, 5]\n",
      "[9, 5, 1, '|', 7, 4, 3, '|', 6, 2, 8]\n",
      "-------------------------------------\n",
      "[5, 1, 9, '|', 3, 2, 6, '|', 8, 7, 4]\n",
      "[2, 4, 8, '|', 9, 5, 7, '|', 1, 3, 6]\n",
      "[7, 6, 3, '|', 4, 1, 8, '|', 2, 5, 9]\n"
     ]
    }
   ],
   "source": [
    "print(solve(sampleBoard))\n",
    "display(sampleBoard)"
   ]
  },
  {
   "cell_type": "code",
   "execution_count": null,
   "metadata": {},
   "outputs": [],
   "source": []
  }
 ],
 "metadata": {
  "kernelspec": {
   "display_name": "Python 3",
   "language": "python",
   "name": "python3"
  },
  "language_info": {
   "codemirror_mode": {
    "name": "ipython",
    "version": 3
   },
   "file_extension": ".py",
   "mimetype": "text/x-python",
   "name": "python",
   "nbconvert_exporter": "python",
   "pygments_lexer": "ipython3",
   "version": "3.7.4"
  }
 },
 "nbformat": 4,
 "nbformat_minor": 2
}
